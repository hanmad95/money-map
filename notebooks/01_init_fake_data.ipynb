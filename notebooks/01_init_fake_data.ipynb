{
 "cells": [
  {
   "cell_type": "markdown",
   "metadata": {},
   "source": [
    "## Ingest required fake data into MYSQL database"
   ]
  },
  {
   "cell_type": "code",
   "execution_count": null,
   "metadata": {
    "metadata": {}
   },
   "outputs": [],
   "source": [
    "from pathlib import Path\n",
    "import sys\n",
    "\n",
    "cwd = Path.cwd().parent.joinpath(\"money_map\")\n",
    "sys.path.append(cwd)\n",
    "\n",
    "from money_map.ingestion.rbpn_ingestion import RBPN_Ingestor\n",
    "from money_map.ingestion.categories_ingestion import Categories_Ingestor\n",
    "from money_map.pipelines.transactions import recreate_transactions_labeled"
   ]
  },
  {
   "cell_type": "markdown",
   "metadata": {},
   "source": [
    "-  Ingest fake RBPN transaction data:"
   ]
  },
  {
   "cell_type": "code",
   "execution_count": null,
   "metadata": {
    "metadata": {}
   },
   "outputs": [],
   "source": [
    "# define target path\n",
    "file_name = \"fake_rbpn_data.csv\"\n",
    "rbpn_file_path = Path.cwd().parent.joinpath(\"data/interim\").joinpath(file_name)\n",
    "\n",
    "# init ingestor\n",
    "ingestor = RBPN_Ingestor()\n",
    "ingestor.connector.create_tables()\n",
    "\n",
    "#ingest data\n",
    "ingestor.ingest_data(file_path=rbpn_file_path)"
   ]
  },
  {
   "cell_type": "markdown",
   "metadata": {},
   "source": [
    "-  Ingest categories for labeling transactions:"
   ]
  },
  {
   "cell_type": "code",
   "execution_count": null,
   "metadata": {
    "metadata": {}
   },
   "outputs": [],
   "source": [
    "file_name = \"fake_categories.json\"\n",
    "file_path = Path.cwd().parent.joinpath(\"data/interim\").joinpath(file_name)\n",
    "\n",
    "# init\n",
    "cat_ingestor = Categories_Ingestor()\n",
    "cat_ingestor.connector.create_tables()\n",
    "\n",
    "#ingest data\n",
    "cat_ingestor.ingest_data(file_path=file_path)\n"
   ]
  },
  {
   "cell_type": "markdown",
   "metadata": {},
   "source": [
    "-  Ingest fake labeled data"
   ]
  },
  {
   "cell_type": "code",
   "execution_count": null,
   "metadata": {
    "metadata": {}
   },
   "outputs": [],
   "source": [
    "import pandas as pd\n",
    "file_name = \"fake_rbpn_participants_labeled.csv\"\n",
    "file_path = Path.cwd().parent.joinpath(\"data/interim\").joinpath(file_name)\n",
    "\n",
    "\n",
    "df = pd.read_csv(file_path,sep=\";\")\n",
    "df.head(5)"
   ]
  },
  {
   "cell_type": "code",
   "execution_count": null,
   "metadata": {
    "metadata": {}
   },
   "outputs": [],
   "source": [
    "df.to_sql(con=ingestor.connector.create_sql_engine(),\n",
    "            name=\"participants_labeled\",\n",
    "            if_exists=\"replace\",\n",
    "            index=False)"
   ]
  },
  {
   "cell_type": "code",
   "execution_count": null,
   "metadata": {
    "metadata": {}
   },
   "outputs": [],
   "source": [
    "recreate_transactions_labeled(engine=ingestor.connector.create_sql_engine())"
   ]
  },
  {
   "cell_type": "code",
   "execution_count": null,
   "metadata": {},
   "outputs": [],
   "source": []
  },
  {
   "cell_type": "code",
   "execution_count": null,
   "metadata": {},
   "outputs": [],
   "source": []
  }
 ],
 "metadata": {
  "kernelspec": {
   "display_name": "money_map",
   "language": "python",
   "name": "python3"
  },
  "language_info": {
   "codemirror_mode": {
    "name": "ipython",
    "version": 3
   },
   "file_extension": ".py",
   "mimetype": "text/x-python",
   "name": "python",
   "nbconvert_exporter": "python",
   "pygments_lexer": "ipython3",
   "version": "3.10.13"
  }
 },
 "nbformat": 4,
 "nbformat_minor": 2
}
