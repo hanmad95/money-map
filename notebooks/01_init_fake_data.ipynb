{
 "cells": [
  {
   "cell_type": "markdown",
   "metadata": {},
   "source": [
    "## Ingest required fake data into MYSQL database"
   ]
  },
  {
   "cell_type": "code",
   "execution_count": 1,
   "metadata": {
    "metadata": {}
   },
   "outputs": [],
   "source": [
    "from pathlib import Path\n",
    "import sys\n",
    "\n",
    "cwd = Path.cwd().parent.joinpath(\"money_map\")\n",
    "sys.path.append(cwd)\n",
    "\n",
    "from money_map.ingestion.rbpn_ingestion import RBPN_Ingestor\n",
    "from money_map.ingestion.categories_ingestion import Categories_Ingestor\n",
    "from money_map.pipelines.transactions import recreate_transactions_labeled"
   ]
  },
  {
   "cell_type": "markdown",
   "metadata": {},
   "source": [
    "### Ingest fake RBPN transaction data"
   ]
  },
  {
   "cell_type": "code",
   "execution_count": 2,
   "metadata": {
    "metadata": {}
   },
   "outputs": [
    {
     "name": "stdout",
     "output_type": "stream",
     "text": [
      "-> 182 new rows ingested!\n"
     ]
    }
   ],
   "source": [
    "# define target path\n",
    "file_name = \"fake_rbpn_data.csv\"\n",
    "rbpn_file_path = Path.cwd().parent.joinpath(\"data/interim\").joinpath(file_name)\n",
    "\n",
    "# init ingestor\n",
    "ingestor = RBPN_Ingestor()\n",
    "ingestor.connector.create_tables()\n",
    "\n",
    "#ingest data\n",
    "ingestor.ingest_data(file_path=rbpn_file_path)"
   ]
  },
  {
   "cell_type": "markdown",
   "metadata": {},
   "source": [
    "### Ingest categories for labeling transactions"
   ]
  },
  {
   "cell_type": "code",
   "execution_count": 3,
   "metadata": {
    "metadata": {}
   },
   "outputs": [
    {
     "name": "stdout",
     "output_type": "stream",
     "text": [
      " -> Recreated:  transaction_categories\n"
     ]
    }
   ],
   "source": [
    "file_name = \"fake_categories.json\"\n",
    "file_path = Path.cwd().parent.joinpath(\"data/interim\").joinpath(file_name)\n",
    "\n",
    "# init\n",
    "cat_ingestor = Categories_Ingestor()\n",
    "cat_ingestor.connector.create_tables()\n",
    "\n",
    "#ingest data\n",
    "cat_ingestor.ingest_data(file_path=file_path)\n"
   ]
  },
  {
   "cell_type": "markdown",
   "metadata": {},
   "source": [
    "###  Ingest fake labeled data"
   ]
  },
  {
   "cell_type": "code",
   "execution_count": 4,
   "metadata": {
    "metadata": {}
   },
   "outputs": [
    {
     "data": {
      "text/html": [
       "<div>\n",
       "<style scoped>\n",
       "    .dataframe tbody tr th:only-of-type {\n",
       "        vertical-align: middle;\n",
       "    }\n",
       "\n",
       "    .dataframe tbody tr th {\n",
       "        vertical-align: top;\n",
       "    }\n",
       "\n",
       "    .dataframe thead th {\n",
       "        text-align: right;\n",
       "    }\n",
       "</style>\n",
       "<table border=\"1\" class=\"dataframe\">\n",
       "  <thead>\n",
       "    <tr style=\"text-align: right;\">\n",
       "      <th></th>\n",
       "      <th>row_number</th>\n",
       "      <th>sender_bank_name</th>\n",
       "      <th>sender_iban</th>\n",
       "      <th>receiver_name</th>\n",
       "      <th>receiver_iban</th>\n",
       "      <th>booking_text</th>\n",
       "      <th>purpose_char</th>\n",
       "      <th>category_id</th>\n",
       "      <th>category_1</th>\n",
       "      <th>category_2</th>\n",
       "      <th>category_3</th>\n",
       "    </tr>\n",
       "  </thead>\n",
       "  <tbody>\n",
       "    <tr>\n",
       "      <th>0</th>\n",
       "      <td>1</td>\n",
       "      <td>RBPN</td>\n",
       "      <td>GB87YODA19011530005979</td>\n",
       "      <td>Adams, Walker and Jones</td>\n",
       "      <td>GB60DSOV30707801799689</td>\n",
       "      <td>ABSCHLUSS</td>\n",
       "      <td>drive question we follow</td>\n",
       "      <td>37</td>\n",
       "      <td>Variable expenses</td>\n",
       "      <td>Living expenses</td>\n",
       "      <td>Fashion</td>\n",
       "    </tr>\n",
       "    <tr>\n",
       "      <th>1</th>\n",
       "      <td>2</td>\n",
       "      <td>RBPN</td>\n",
       "      <td>GB87YODA19011530005979</td>\n",
       "      <td>Amy Riley</td>\n",
       "      <td>GB50YYFZ33231044832099</td>\n",
       "      <td>LASTSCHRIFT</td>\n",
       "      <td>style grow eight carry carry</td>\n",
       "      <td>37</td>\n",
       "      <td>Variable expenses</td>\n",
       "      <td>Living expenses</td>\n",
       "      <td>Fashion</td>\n",
       "    </tr>\n",
       "    <tr>\n",
       "      <th>2</th>\n",
       "      <td>3</td>\n",
       "      <td>RBPN</td>\n",
       "      <td>GB87YODA19011530005979</td>\n",
       "      <td>Andrew Myers</td>\n",
       "      <td>GB25CZXL23186024805804</td>\n",
       "      <td>DAUERAUFTRAG</td>\n",
       "      <td>tree red present pick paper</td>\n",
       "      <td>16</td>\n",
       "      <td>Fixed expenses</td>\n",
       "      <td>Insurance</td>\n",
       "      <td>Supplementary health insurance</td>\n",
       "    </tr>\n",
       "    <tr>\n",
       "      <th>3</th>\n",
       "      <td>4</td>\n",
       "      <td>RBPN</td>\n",
       "      <td>GB87YODA19011530005979</td>\n",
       "      <td>Arnold-Lawrence</td>\n",
       "      <td>GB89PEAD91436481302063</td>\n",
       "      <td>Aufladung Mobilfunkguthaben</td>\n",
       "      <td>environment fear either plant</td>\n",
       "      <td>30</td>\n",
       "      <td>Fixed expenses</td>\n",
       "      <td>Other contracts</td>\n",
       "      <td>Mobile phone</td>\n",
       "    </tr>\n",
       "    <tr>\n",
       "      <th>4</th>\n",
       "      <td>6</td>\n",
       "      <td>RBPN</td>\n",
       "      <td>GB87YODA19011530005979</td>\n",
       "      <td>Brian Contreras</td>\n",
       "      <td>GB69OVYM85148454554764</td>\n",
       "      <td>Auszahlung girocard</td>\n",
       "      <td>man board discover likely study case air</td>\n",
       "      <td>49</td>\n",
       "      <td>Variable expenses</td>\n",
       "      <td>Entertainment</td>\n",
       "      <td>Vacation</td>\n",
       "    </tr>\n",
       "  </tbody>\n",
       "</table>\n",
       "</div>"
      ],
      "text/plain": [
       "   row_number sender_bank_name             sender_iban  \\\n",
       "0           1             RBPN  GB87YODA19011530005979   \n",
       "1           2             RBPN  GB87YODA19011530005979   \n",
       "2           3             RBPN  GB87YODA19011530005979   \n",
       "3           4             RBPN  GB87YODA19011530005979   \n",
       "4           6             RBPN  GB87YODA19011530005979   \n",
       "\n",
       "             receiver_name           receiver_iban  \\\n",
       "0  Adams, Walker and Jones  GB60DSOV30707801799689   \n",
       "1                Amy Riley  GB50YYFZ33231044832099   \n",
       "2             Andrew Myers  GB25CZXL23186024805804   \n",
       "3          Arnold-Lawrence  GB89PEAD91436481302063   \n",
       "4          Brian Contreras  GB69OVYM85148454554764   \n",
       "\n",
       "                  booking_text                              purpose_char  \\\n",
       "0                    ABSCHLUSS                  drive question we follow   \n",
       "1                  LASTSCHRIFT              style grow eight carry carry   \n",
       "2                 DAUERAUFTRAG               tree red present pick paper   \n",
       "3  Aufladung Mobilfunkguthaben             environment fear either plant   \n",
       "4          Auszahlung girocard  man board discover likely study case air   \n",
       "\n",
       "   category_id         category_1       category_2  \\\n",
       "0           37  Variable expenses  Living expenses   \n",
       "1           37  Variable expenses  Living expenses   \n",
       "2           16     Fixed expenses        Insurance   \n",
       "3           30     Fixed expenses  Other contracts   \n",
       "4           49  Variable expenses    Entertainment   \n",
       "\n",
       "                       category_3  \n",
       "0                         Fashion  \n",
       "1                         Fashion  \n",
       "2  Supplementary health insurance  \n",
       "3                    Mobile phone  \n",
       "4                        Vacation  "
      ]
     },
     "execution_count": 4,
     "metadata": {},
     "output_type": "execute_result"
    }
   ],
   "source": [
    "import pandas as pd\n",
    "file_name = \"fake_rbpn_participants_labeled.csv\"\n",
    "file_path = Path.cwd().parent.joinpath(\"data/interim\").joinpath(file_name)\n",
    "\n",
    "\n",
    "df = pd.read_csv(file_path,sep=\";\")\n",
    "df.head(5)"
   ]
  },
  {
   "cell_type": "code",
   "execution_count": 5,
   "metadata": {
    "metadata": {}
   },
   "outputs": [
    {
     "data": {
      "text/plain": [
       "48"
      ]
     },
     "execution_count": 5,
     "metadata": {},
     "output_type": "execute_result"
    }
   ],
   "source": [
    "df.to_sql(con=ingestor.connector.create_sql_engine(),\n",
    "            name=\"participants_labeled\",\n",
    "            if_exists=\"replace\",\n",
    "            index=False)"
   ]
  },
  {
   "cell_type": "code",
   "execution_count": 6,
   "metadata": {
    "metadata": {}
   },
   "outputs": [],
   "source": [
    "recreate_transactions_labeled(engine=ingestor.connector.create_sql_engine())"
   ]
  },
  {
   "cell_type": "code",
   "execution_count": null,
   "metadata": {},
   "outputs": [],
   "source": []
  },
  {
   "cell_type": "code",
   "execution_count": null,
   "metadata": {},
   "outputs": [],
   "source": []
  }
 ],
 "metadata": {
  "kernelspec": {
   "display_name": "money_map",
   "language": "python",
   "name": "python3"
  },
  "language_info": {
   "codemirror_mode": {
    "name": "ipython",
    "version": 3
   },
   "file_extension": ".py",
   "mimetype": "text/x-python",
   "name": "python",
   "nbconvert_exporter": "python",
   "pygments_lexer": "ipython3",
   "version": "3.10.13"
  }
 },
 "nbformat": 4,
 "nbformat_minor": 2
}
