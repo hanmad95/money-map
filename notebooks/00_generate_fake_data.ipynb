{
 "cells": [
  {
   "cell_type": "markdown",
   "metadata": {},
   "source": [
    "# Generate fake RBPN data"
   ]
  },
  {
   "cell_type": "code",
   "execution_count": null,
   "metadata": {},
   "outputs": [],
   "source": [
    "from pathlib import Path\n",
    "import sys\n",
    "from datetime import date\n",
    "\n",
    "cwd = Path.cwd().parent.joinpath(\"money_map\")\n",
    "sys.path.append(cwd)\n",
    "from money_map.data.rbpn_generators import RBPN_Generator\n",
    "\n",
    "generator = RBPN_Generator()\n",
    "start_date = date(2024,1,1)\n",
    "end_date = date(2024,12,1)\n",
    "start_balance = 30000\n",
    "\n",
    "fake_data = generator.generate_random_data(start_date=start_date,\n",
    "                                           end_date=end_date,\n",
    "                                           num_unique_receiver=50,\n",
    "                                           start_balance=start_balance)\n",
    "\n",
    "fake_data.tail(20)"
   ]
  },
  {
   "cell_type": "code",
   "execution_count": 2,
   "metadata": {},
   "outputs": [],
   "source": [
    "# store\n",
    "file_name = \"rbpn_fake_data.csv\"\n",
    "storage_dir = Path.cwd().parent.joinpath(\"data/raw\")\n",
    "fake_data.to_csv(storage_dir.joinpath(file_name),sep=\";\")"
   ]
  },
  {
   "cell_type": "code",
   "execution_count": null,
   "metadata": {},
   "outputs": [],
   "source": []
  }
 ],
 "metadata": {
  "kernelspec": {
   "display_name": "money_map",
   "language": "python",
   "name": "python3"
  },
  "language_info": {
   "codemirror_mode": {
    "name": "ipython",
    "version": 3
   },
   "file_extension": ".py",
   "mimetype": "text/x-python",
   "name": "python",
   "nbconvert_exporter": "python",
   "pygments_lexer": "ipython3",
   "version": "3.10.13"
  }
 },
 "nbformat": 4,
 "nbformat_minor": 2
}
