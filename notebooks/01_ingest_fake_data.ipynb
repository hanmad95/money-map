{
 "cells": [
  {
   "cell_type": "markdown",
   "metadata": {},
   "source": [
    "## Ingest fake RBPN data into MYSQL database"
   ]
  },
  {
   "cell_type": "code",
   "execution_count": 1,
   "metadata": {},
   "outputs": [],
   "source": [
    "from pathlib import Path\n",
    "import sys\n",
    "import pandas as pd\n",
    "\n",
    "cwd = Path.cwd().parent.joinpath(\"money_map\")\n",
    "sys.path.append(cwd)\n",
    "from money_map.ingestion.rbpn_ingestion import RBPN_Ingestor"
   ]
  },
  {
   "cell_type": "code",
   "execution_count": null,
   "metadata": {},
   "outputs": [],
   "source": [
    "# define target path\n",
    "file_name = \"rbpn_fake_data.csv\"\n",
    "raw_file_path = Path.cwd().parent.joinpath(\"data/raw\")\n",
    "\n",
    "# init ingestor\n",
    "ingestor = RBPN_Ingestor()\n",
    "ingestor.ingest_data(file_path=raw_file_path)"
   ]
  }
 ],
 "metadata": {
  "kernelspec": {
   "display_name": "money_map",
   "language": "python",
   "name": "python3"
  },
  "language_info": {
   "codemirror_mode": {
    "name": "ipython",
    "version": 3
   },
   "file_extension": ".py",
   "mimetype": "text/x-python",
   "name": "python",
   "nbconvert_exporter": "python",
   "pygments_lexer": "ipython3",
   "version": "3.10.13"
  }
 },
 "nbformat": 4,
 "nbformat_minor": 2
}
