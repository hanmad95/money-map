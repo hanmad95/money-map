{
 "cells": [
  {
   "cell_type": "code",
   "execution_count": null,
   "metadata": {},
   "outputs": [],
   "source": [
    "# stdlib\n",
    "from pathlib import Path\n",
    "from typing import List,Any,Dict\n",
    "\n",
    "import pandas as pd\n",
    "\n",
    "from sqlalchemy import create_engine, select, inspect, and_, exists\n",
    "from sqlalchemy.orm import Session\n",
    "\n",
    "import sys\n",
    "cwd = Path.cwd().parent.joinpath(\"money_map\")\n",
    "sys.path.append(cwd)\n",
    "\n",
    "# custom class\n",
    "from money_map.models.orm_models import (Transactions_Labeled_Table)\n",
    "from money_map.pipelines.transactions import recreate_transactions_labeled\n",
    "from money_map.connect.mysql_conector import MySQLConnector\n",
    "\n",
    "\n",
    "connector = MySQLConnector()\n",
    "engine = connector.create_sql_engine()\n",
    "recreate_transactions_labeled(engine=engine)"
   ]
  },
  {
   "cell_type": "code",
   "execution_count": null,
   "metadata": {},
   "outputs": [],
   "source": [
    "\n",
    "target_account:str = \"GB87YODA19011530005979\"\n",
    "with Session(engine) as session:\n",
    "    stmt = (select(Transactions_Labeled_Table)\n",
    "            .filter(Transactions_Labeled_Table.sender_iban==target_account))\n",
    "    df = pd.read_sql(stmt, session.bind)\n",
    "\n",
    "\n",
    "df = df.sort_values(by=\"booking_date\")\n",
    "\n",
    "# define day, month, year based on booking_date\n",
    "df[\"booking_date\"] = pd.to_datetime(df[\"booking_date\"],format=\"%Y-%m-%d\")\n",
    "df[\"value_date\"] = pd.to_datetime(df[\"value_date\"],format=\"%Y-%m-%d\")\n",
    "df[\"day\"] = df[\"booking_date\"].dt.day\n",
    "df[\"month\"] = df[\"booking_date\"].dt.month\n",
    "df[\"year\"] = df[\"booking_date\"].dt.year\n",
    "\n",
    "print(list(df))\n",
    "# df.to_csv(r\"C:\\Users\\hanne\\Documents\\GitHub\\money-map\\data\\protected\\rbpn_transactions_labeled_backup.csv\")\n",
    "df.head(2)"
   ]
  },
  {
   "cell_type": "markdown",
   "metadata": {},
   "source": [
    "\n",
    "# Monthly\n"
   ]
  },
  {
   "cell_type": "code",
   "execution_count": null,
   "metadata": {},
   "outputs": [],
   "source": [
    "# define monthly dataset\n",
    "ignore_categories_3 = [\"Transfers\"]\n",
    "\n",
    "monthly_df = df.loc[~df[\"category_3\"].isin(ignore_categories_3)]\n",
    "monthly_df = (monthly_df.groupby([\"year\",\"month\",\"category_id\"])\n",
    "                        .agg({\"amount\":\"sum\",\"balance_after_booking\":\"mean\",\"category_1\":\"first\",\"category_2\":\"first\",\"category_3\":\"first\"})\n",
    "                        .reset_index())\n",
    "\n",
    "monthly_df[\"year-month\"] = monthly_df[\"year\"].astype(str) + \"-\" + monthly_df[\"month\"].astype(str)\n",
    "monthly_df_total = monthly_df[[\"year-month\",\"amount\"]].groupby('year-month').sum()\n",
    "monthly_df_total[\"amount\"] = monthly_df_total[\"amount\"].astype(int)"
   ]
  },
  {
   "cell_type": "code",
   "execution_count": null,
   "metadata": {},
   "outputs": [],
   "source": [
    "import plotly.express as px\n",
    "import plotly.graph_objects as go\n",
    "\n",
    "fig = px.bar(monthly_df,x=\"year-month\",y=\"amount\",color=\"category_3\",height=1000)\n",
    "fig.add_trace(go.Scatter(\n",
    "    x=monthly_df_total .index,\n",
    "    y=monthly_df_total['amount'],\n",
    "    text=monthly_df_total ['amount'],\n",
    "    mode='text',\n",
    "    textposition='top center',\n",
    "    textfont=dict(\n",
    "        size=18,\n",
    "    ),\n",
    "    showlegend=False\n",
    "))\n",
    "fig.update_layout(title=f'Transactions: {target_account}')\n",
    "fig.show()"
   ]
  },
  {
   "cell_type": "code",
   "execution_count": null,
   "metadata": {},
   "outputs": [],
   "source": [
    "daily_df = (df.groupby([\"booking_date\"])\n",
    "                .agg(min_balance_after_booking=(\"balance_after_booking\",\"min\"),\n",
    "                     mean_balance_after_booking=(\"balance_after_booking\",\"mean\"),\n",
    "                     max_balance_after_booking=(\"balance_after_booking\",\"max\"))\n",
    "                .reset_index())\n",
    "\n",
    "fig = go.Figure()\n",
    "fig.add_trace(go.Scatter(x=daily_df[\"booking_date\"],y=daily_df[\"min_balance_after_booking\"],mode='lines+markers',name=\"min_balance_after_booking\"))\n",
    "fig.add_trace(go.Scatter(x=daily_df[\"booking_date\"],y=daily_df[\"max_balance_after_booking\"],mode='lines+markers',name=\"max_balance_after_booking\"))\n",
    "fig.update_layout(title=f'Balance: {target_account}',\n",
    "                  xaxis_title='Booking Date',\n",
    "                  yaxis_title='Balance [€]')\n",
    "fig.show()"
   ]
  },
  {
   "cell_type": "code",
   "execution_count": null,
   "metadata": {},
   "outputs": [],
   "source": []
  }
 ],
 "metadata": {
  "kernelspec": {
   "display_name": "money_map",
   "language": "python",
   "name": "python3"
  },
  "language_info": {
   "codemirror_mode": {
    "name": "ipython",
    "version": 3
   },
   "file_extension": ".py",
   "mimetype": "text/x-python",
   "name": "python",
   "nbconvert_exporter": "python",
   "pygments_lexer": "ipython3",
   "version": "3.10.13"
  }
 },
 "nbformat": 4,
 "nbformat_minor": 2
}
